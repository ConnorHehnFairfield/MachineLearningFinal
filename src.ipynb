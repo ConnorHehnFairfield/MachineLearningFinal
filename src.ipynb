{
 "cells": [
  {
   "cell_type": "code",
   "execution_count": null,
   "metadata": {},
   "outputs": [],
   "source": [
    "# Machine Learning Final\n",
    "# Connor Hehn and John Minogue\n",
    "\n",
    "import pandas as pd\n",
    "import numpy as np"
   ]
  },
  {
   "cell_type": "code",
   "execution_count": null,
   "metadata": {},
   "outputs": [],
   "source": [
    "# Reading the data into data frames\n",
    "\n",
    "df1_E = pd.read_csv(\"Data/Subject01E.csv\")\n",
    "df1_G = pd.read_csv(\"Data/Subject02E.csv\")\n",
    "\n",
    "df2_E = pd.read_csv(\"Data/Subject02E.csv\")\n",
    "df2_G = pd.read_csv(\"Data/Subject02G.csv\")\n",
    "\n",
    "df3_E = pd.read_csv(\"Data/Subject03E.csv\")\n",
    "df3_G = pd.read_csv(\"Data/Subject03G.csv\")\n",
    "\n",
    "df4_E = pd.read_csv(\"Data/Subject04E.csv\")\n",
    "df4_G = pd.read_csv(\"Data/Subject04G.csv\")\n",
    "\n",
    "df5_E = pd.read_csv(\"Data/Subject05E.csv\")\n",
    "df5_G = pd.read_csv(\"Data/Subject05G.csv\")\n",
    "\n",
    "df6_E = pd.read_csv(\"Data/Subject06E.csv\")\n",
    "df6_G = pd.read_csv(\"Data/Subject06G.csv\")\n",
    "\n",
    "df7_E = pd.read_csv(\"Data/Subject07E.csv\")\n",
    "df7_G = pd.read_csv(\"Data/Subject07G.csv\")\n",
    "\n",
    "df8_E = pd.read_csv(\"Data/Subject08E.csv\")\n",
    "df8_G = pd.read_csv(\"Data/Subject08G.csv\")\n",
    "\n",
    "df9_E = pd.read_csv(\"Data/Subject09E.csv\")\n",
    "df9_G = pd.read_csv(\"Data/Subject09G.csv\")\n",
    "\n",
    "df10_E = pd.read_csv(\"Data/Subject10E.csv\")\n",
    "df10_G = pd.read_csv(\"Data/Subject10G.csv\")\n"
   ]
  },
  {
   "cell_type": "code",
   "execution_count": null,
   "metadata": {},
   "outputs": [],
   "source": []
  }
 ],
 "metadata": {
  "kernelspec": {
   "display_name": "Python 3.10.4 64-bit",
   "language": "python",
   "name": "python3"
  },
  "language_info": {
   "codemirror_mode": {
    "name": "ipython",
    "version": 3
   },
   "file_extension": ".py",
   "mimetype": "text/x-python",
   "name": "python",
   "nbconvert_exporter": "python",
   "pygments_lexer": "ipython3",
   "version": "3.10.4"
  },
  "orig_nbformat": 4,
  "vscode": {
   "interpreter": {
    "hash": "3ad933181bd8a04b432d3370b9dc3b0662ad032c4dfaa4e4f1596c548f763858"
   }
  }
 },
 "nbformat": 4,
 "nbformat_minor": 2
}
