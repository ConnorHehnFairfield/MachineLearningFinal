{
 "cells": [
  {
   "attachments": {},
   "cell_type": "markdown",
   "metadata": {},
   "source": [
    "<h1>Machine Learning Final</h1>"
   ]
  },
  {
   "cell_type": "code",
   "execution_count": 64,
   "metadata": {},
   "outputs": [],
   "source": [
    "# Machine Learning Final\n",
    "# Connor Hehn and John Minogue\n",
    "\n",
    "import pandas as pd\n",
    "import numpy as np\n",
    "from sklearn.ensemble import RandomForestClassifier\n",
    "from sklearn.metrics import confusion_matrix, ConfusionMatrixDisplay\n",
    "import matplotlib.pyplot as plt\n",
    "from sklearn.linear_model import LogisticRegression\n",
    "from sklearn.preprocessing import StandardScaler\n",
    "from sklearn.metrics import f1_score\n",
    "from sklearn.metrics import accuracy_score\n",
    "from sklearn.feature_selection import SelectKBest\n",
    "from sklearn.feature_selection import f_classif"
   ]
  },
  {
   "attachments": {},
   "cell_type": "markdown",
   "metadata": {},
   "source": [
    "<h2>Importing The Data</h2>"
   ]
  },
  {
   "cell_type": "code",
   "execution_count": 65,
   "metadata": {},
   "outputs": [],
   "source": [
    "# Reading the data into data frames\n",
    "\n",
    "df_1E = pd.read_csv(\"Data/Subject01E.csv\")\n",
    "df_1G = pd.read_csv(\"Data/Subject01G.csv\")\n",
    "\n",
    "df_2E = pd.read_csv(\"Data/Subject02E.csv\")\n",
    "df_2G = pd.read_csv(\"Data/Subject02G.csv\")\n",
    "\n",
    "df_3E = pd.read_csv(\"Data/Subject03E.csv\")\n",
    "df_3G = pd.read_csv(\"Data/Subject03G.csv\")\n",
    "\n",
    "df_4E = pd.read_csv(\"Data/Subject04E.csv\")\n",
    "df_4G = pd.read_csv(\"Data/Subject04G.csv\")\n",
    "\n",
    "df_5E = pd.read_csv(\"Data/Subject05E.csv\")\n",
    "df_5G = pd.read_csv(\"Data/Subject05G.csv\")\n",
    "\n",
    "df_6E = pd.read_csv(\"Data/Subject06E.csv\")\n",
    "df_6G = pd.read_csv(\"Data/Subject06G.csv\")\n",
    "\n",
    "df_7E = pd.read_csv(\"Data/Subject07E.csv\")\n",
    "df_7G = pd.read_csv(\"Data/Subject07G.csv\")\n",
    "\n",
    "df_8E = pd.read_csv(\"Data/Subject08E.csv\")\n",
    "df_8G = pd.read_csv(\"Data/Subject08G.csv\")\n",
    "\n",
    "df_9E = pd.read_csv(\"Data/Subject09E.csv\")\n",
    "df_9G = pd.read_csv(\"Data/Subject09G.csv\")\n",
    "\n",
    "df_10E = pd.read_csv(\"Data/Subject10E.csv\")\n",
    "df_10G = pd.read_csv(\"Data/Subject10G.csv\")"
   ]
  },
  {
   "attachments": {},
   "cell_type": "markdown",
   "metadata": {},
   "source": [
    "<h2>Data Preprocessing and Cleaning<h2>"
   ]
  },
  {
   "cell_type": "code",
   "execution_count": 66,
   "metadata": {},
   "outputs": [
    {
     "name": "stdout",
     "output_type": "stream",
     "text": [
      "<class 'pandas.core.frame.DataFrame'>\n",
      "Int64Index: 10542 entries, 0 to 499\n",
      "Data columns (total 10 columns):\n",
      " #   Column             Non-Null Count  Dtype  \n",
      "---  ------             --------------  -----  \n",
      " 0   Grounded           10542 non-null  float64\n",
      " 1   Time[secs]         10542 non-null  float64\n",
      " 2   Forefoot Force[N]  10542 non-null  float64\n",
      " 3   Midfoot Force[N]   10542 non-null  float64\n",
      " 4   Heel Force[N]      10542 non-null  float64\n",
      " 5   TForce[N]          10542 non-null  float64\n",
      " 6   RAnkleFlexion      10542 non-null  float64\n",
      " 7   RAnkleInversion    10542 non-null  float64\n",
      " 8   RAnkleAbduction    10542 non-null  float64\n",
      " 9   Person             10542 non-null  float64\n",
      "dtypes: float64(10)\n",
      "memory usage: 906.0 KB\n"
     ]
    }
   ],
   "source": [
    "# Merging all the dataframes into one dataframe\n",
    "frame = [df_1E, df_1G, df_2E, df_2G, df_3E, df_3G, df_4E, df_4G, df_5E, df_5G, df_6E, df_6G, df_7E, df_7G, df_8E, df_8G, df_9E, df_9G, df_10E, df_10G]\n",
    "main_dataframe = pd.concat(frame)\n",
    "\n",
    "main_dataframe.fillna(method='ffill',inplace=True)\n",
    "main_dataframe.fillna(0)\n",
    "main_dataframe.info()"
   ]
  },
  {
   "attachments": {},
   "cell_type": "markdown",
   "metadata": {},
   "source": [
    "<h2>Feature Engineering</h2>"
   ]
  },
  {
   "cell_type": "code",
   "execution_count": 67,
   "metadata": {},
   "outputs": [],
   "source": [
    "# --------------------------------------------------\n",
    "# Creating a new dataframe with the average values\n",
    "main_mean = main_dataframe.groupby(['Person','Grounded'],as_index=False)[main_dataframe.columns].mean()\n",
    "main_mean = main_mean.add_suffix(\" Avg\")\n",
    "\n",
    "for i in range(len(main_mean)):\n",
    "    main_mean['Person'] = main_mean['Person Avg']\n",
    "    main_mean['Grounded'] = main_mean['Grounded Avg']\n",
    "\n",
    "# Dropping unecessary columns\n",
    "main_mean = main_mean.drop(columns = 'Person Avg')\n",
    "main_mean = main_mean.drop(columns = 'Grounded Avg')\n",
    "main_mean = main_mean.drop(columns = 'Time[secs] Avg')\n",
    "\n",
    "\n",
    "# --------------------------------------------------\n",
    "# Creating a new dataframe with the min values\n",
    "main_min = main_dataframe.groupby(['Person','Grounded'],as_index=False)[main_dataframe.columns].min()\n",
    "main_min = main_min.add_suffix(\" Min\")\n",
    "\n",
    "for i in range(len(main_min)):\n",
    "    main_min['Person'] = main_min['Person Min']\n",
    "    main_min['Grounded'] = main_min['Grounded Min']\n",
    "\n",
    "# Dropping uncessary columns\n",
    "main_min = main_min.drop(columns = 'Person Min')\n",
    "main_min = main_min.drop(columns = 'Grounded Min')\n",
    "main_min = main_min.drop(columns = 'Time[secs] Min')\n",
    "\n",
    "\n",
    "# --------------------------------------------------\n",
    "# Creating a new dataframe with the max values\n",
    "main_max = main_dataframe.groupby(['Person','Grounded'],as_index=False)[main_dataframe.columns].max()\n",
    "main_max = main_max.add_suffix(\" Max\")\n",
    "\n",
    "for i in range(len(main_max)):\n",
    "    main_max['Person'] = main_max['Person Max']\n",
    "    main_max['Grounded'] = main_max['Grounded Max']\n",
    "\n",
    "# Dropping uncessary columns\n",
    "main_max = main_max.drop(columns = 'Person Max')\n",
    "main_max = main_max.drop(columns = 'Grounded Max')\n",
    "main_max = main_max.drop(columns = 'Time[secs] Max')\n",
    "\n",
    "\n",
    "# --------------------------------------------------\n",
    "# Creating a new dataframe with the std values\n",
    "main_std = main_dataframe.groupby(['Person','Grounded'],as_index=False)[main_dataframe.columns].std()\n",
    "main_std = main_std.add_suffix(\" Std\")\n",
    "\n",
    "# Dropping uncessary columns\n",
    "main_std = main_std.drop(columns = 'Person Std')\n",
    "main_std = main_std.drop(columns = 'Grounded Std')\n",
    "main_std = main_std.drop(columns = 'Time[secs] Std')\n"
   ]
  },
  {
   "cell_type": "code",
   "execution_count": 68,
   "metadata": {},
   "outputs": [],
   "source": [
    "# Initializing the main datafram with the mean data\n",
    "df = main_mean\n",
    "\n",
    "# Adding the max values to the main dataframe\n",
    "for col in main_max.columns:\n",
    "    df[col] = main_max[col]\n",
    "\n",
    "# Adding the min values to the main dataframe\n",
    "for col in main_min.columns:\n",
    "    df[col] = main_min[col]\n",
    "\n",
    "# Adding the std values to the main dataframe\n",
    "for col in main_std.columns:\n",
    "    df[col] = main_std[col]\n",
    "\n",
    "# Showing that all the columns are there"
   ]
  },
  {
   "attachments": {},
   "cell_type": "markdown",
   "metadata": {},
   "source": [
    "<h2>Feature Selection</h2>"
   ]
  },
  {
   "cell_type": "code",
   "execution_count": 69,
   "metadata": {},
   "outputs": [
    {
     "data": {
      "text/plain": [
       "<AxesSubplot: >"
      ]
     },
     "execution_count": 69,
     "metadata": {},
     "output_type": "execute_result"
    },
    {
     "data": {
      "image/png": "[encoded data removed]",
      "text/plain": [
       "<Figure size 640x480 with 1 Axes>"
      ]
     },
     "metadata": {},
     "output_type": "display_data"
    }
   ],
   "source": [
    "y = df.Grounded\n",
    "X = df.drop(columns='Grounded')\n",
    "X = X.drop(columns='Person')\n",
    "\n",
    "model = RandomForestClassifier()\n",
    "model.fit(X, y)\n",
    "\n",
    "(pd.Series(model.feature_importances_, index=X.columns)\n",
    "   .nlargest(10)\n",
    "   .plot(kind='barh')) "
   ]
  },
  {
   "cell_type": "code",
   "execution_count": 70,
   "metadata": {},
   "outputs": [
    {
     "name": "stdout",
     "output_type": "stream",
     "text": [
      "The most influential columns on the target are: ['Heel Force[N] Avg' 'RAnkleFlexion Avg' 'RAnkleInversion Avg'\n",
      " 'RAnkleFlexion Max' 'RAnkleInversion Min']\n"
     ]
    },
    {
     "name": "stderr",
     "output_type": "stream",
     "text": [
      "/home/codespace/.local/lib/python3.10/site-packages/sklearn/feature_selection/_univariate_selection.py:110: UserWarning: Features [15 16] are constant.\n",
      "  warnings.warn(\"Features %s are constant.\" % constant_features_idx, UserWarning)\n",
      "/home/codespace/.local/lib/python3.10/site-packages/sklearn/feature_selection/_univariate_selection.py:111: RuntimeWarning: invalid value encountered in divide\n",
      "  f = msb / msw\n",
      "/tmp/ipykernel_5102/2797429656.py:20: SettingWithCopyWarning: \n",
      "A value is trying to be set on a copy of a slice from a DataFrame.\n",
      "Try using .loc[row_indexer,col_indexer] = value instead\n",
      "\n",
      "See the caveats in the documentation: https://pandas.pydata.org/pandas-docs/stable/user_guide/indexing.html#returning-a-view-versus-a-copy\n",
      "  resulting_df['Grounded'] = y\n",
      "/tmp/ipykernel_5102/2797429656.py:21: SettingWithCopyWarning: \n",
      "A value is trying to be set on a copy of a slice from a DataFrame.\n",
      "Try using .loc[row_indexer,col_indexer] = value instead\n",
      "\n",
      "See the caveats in the documentation: https://pandas.pydata.org/pandas-docs/stable/user_guide/indexing.html#returning-a-view-versus-a-copy\n",
      "  resulting_df['Person'] = persons\n"
     ]
    }
   ],
   "source": [
    "# Saving the index of the subject number (person). Then dropping it from the main datafram\n",
    "persons = df['Person']\n",
    "df = df.drop(columns='Person')\n",
    "\n",
    "y = df.Grounded\n",
    "df = df.drop(columns='Grounded')\n",
    "\n",
    "# Performing SelectKBest on the data to get the 2 most influential data\n",
    "scaler = SelectKBest(f_classif,k=5)\n",
    "scaler.fit_transform(df, y)\n",
    "\n",
    "# Select K Best drops the column names - need to get them back\n",
    "cols = scaler.get_support(indices = True)\n",
    "resulting_df = df.iloc[:,cols]\n",
    "\n",
    "print(f\"The most influential columns on the target are: {resulting_df.columns.values}\")\n",
    "\n",
    "\n",
    "# Now that I have the new DataFrame the targets and person index need to be added back\n",
    "resulting_df['Grounded'] = y\n",
    "resulting_df['Person'] = persons\n",
    "\n",
    "df = resulting_df\n",
    "df = df[[\"Grounded\",\"Person\",\"RAnkleFlexion Max\",\"RAnkleInversion Min\"]]"
   ]
  },
  {
   "attachments": {},
   "cell_type": "markdown",
   "metadata": {},
   "source": [
    "<h2>Logistic Regression Model</h2>"
   ]
  },
  {
   "cell_type": "code",
   "execution_count": 71,
   "metadata": {},
   "outputs": [
    {
     "name": "stdout",
     "output_type": "stream",
     "text": [
      "\n",
      "Accuracy Score:  100.0 %\n",
      "\n",
      "F1 Score:  1.0\n",
      "\n",
      "Accuracy Score:  100.0 %\n",
      "\n",
      "F1 Score:  1.0\n",
      "\n",
      "Accuracy Score:  100.0 %\n",
      "\n",
      "F1 Score:  1.0\n",
      "\n",
      "Accuracy Score:  100.0 %\n",
      "\n",
      "F1 Score:  1.0\n",
      "\n",
      "Accuracy Score:  100.0 %\n",
      "\n",
      "F1 Score:  1.0\n",
      "\n",
      "Accuracy Score:  100.0 %\n",
      "\n",
      "F1 Score:  1.0\n",
      "\n",
      "Accuracy Score:  100.0 %\n",
      "\n",
      "F1 Score:  1.0\n",
      "\n",
      "Accuracy Score:  100.0 %\n",
      "\n",
      "F1 Score:  1.0\n",
      "\n",
      "Accuracy Score:  100.0 %\n",
      "\n",
      "F1 Score:  1.0\n",
      "\n",
      "Accuracy Score:  100.0 %\n",
      "\n",
      "F1 Score:  1.0\n",
      "1.0\n"
     ]
    }
   ],
   "source": [
    "# Logistic Regression Model\n",
    "\n",
    "total_score = 0\n",
    "for i in range(10):\n",
    "    # Creating the test dataset\n",
    "    test = df.loc[df['Person']==(i+1)]\n",
    "    # Creating y_test\n",
    "    y_test = test.Grounded\n",
    "    # Creating x_test and dropping target and index\n",
    "    x_test = test.drop(columns='Grounded')\n",
    "    x_test = x_test.drop(columns='Person')\n",
    "\n",
    "\n",
    "    # Creating the train dataset\n",
    "    train = df.loc[df['Person']!=(i+1)]\n",
    "    # Creating y_train\n",
    "    y_train = train.Grounded\n",
    "    # Creting x_train and dropping target and index\n",
    "    x_train = train.drop(columns='Grounded')\n",
    "    x_train = x_train.drop(columns='Person')\n",
    "\n",
    "\n",
    "    clf = LogisticRegression()\n",
    "\n",
    "    clf.fit(x_train,y_train)\n",
    "    pred = clf.predict(x_test)\n",
    "\n",
    "    score = clf.score(x_test,y_test)\n",
    "    total_score += score\n",
    "    conf = confusion_matrix(y_test, pred)\n",
    "    df_cm = pd.DataFrame(conf,index = [0,1],columns=[0,1])\n",
    "\n",
    "    # Confusion Matrix\n",
    "    # cm = confusion_matrix(y_test, pred)\n",
    "    # disp = ConfusionMatrixDisplay(confusion_matrix=cm)\n",
    "    # disp.plot()\n",
    "\n",
    "    # Accuracy \n",
    "    print('\\nAccuracy Score: ' , accuracy_score(y_test,pred)*100 , '%\\n' )\n",
    "\n",
    "    # F-1 Score\n",
    "    print('F1 Score: ' , f1_score(y_test, pred, average='macro'))\n",
    "\n",
    "\n",
    "total_score = total_score/10\n",
    "print(total_score)"
   ]
  },
  {
   "attachments": {},
   "cell_type": "markdown",
   "metadata": {},
   "source": [
    "<h2>Random Forest Classifier</h2>"
   ]
  },
  {
   "cell_type": "code",
   "execution_count": 72,
   "metadata": {},
   "outputs": [
    {
     "name": "stdout",
     "output_type": "stream",
     "text": [
      "[1.0, 1.0, 1.0, 1.0, 1.0, 1.0, 1.0, 1.0, 1.0, 1.0, 1.0, 1.0, 1.0, 1.0, 1.0, 1.0, 1.0, 1.0, 1.0, 1.0, 1.0, 1.0, 1.0, 1.0, 1.0, 1.0, 1.0, 1.0, 1.0, 1.0, 1.0, 1.0, 1.0, 1.0, 1.0, 1.0, 1.0, 1.0, 1.0, 1.0, 1.0, 1.0, 1.0, 1.0, 1.0, 1.0, 1.0, 1.0, 1.0]\n"
     ]
    },
    {
     "data": {
      "image/png": "[encoded data removed]",
      "text/plain": [
       "<Figure size 640x480 with 1 Axes>"
      ]
     },
     "metadata": {},
     "output_type": "display_data"
    }
   ],
   "source": [
    "# Random Forest\n",
    "\n",
    "total_score = 0\n",
    "number_trees = list(range(1,50))\n",
    "trees_score = []\n",
    "\n",
    "for x in number_trees:\n",
    "    total_score = 0\n",
    "    for i in range(10):\n",
    "        # Creating the test dataset\n",
    "        test = df.loc[df['Person']==(i+1)]\n",
    "        # Creating y_test\n",
    "        y_test = test.Grounded\n",
    "        # Creating x_test and dropping target and index\n",
    "        x_test = test.drop(columns='Grounded')\n",
    "        x_test = x_test.drop(columns='Person')\n",
    "\n",
    "\n",
    "        # Creating the train dataset\n",
    "        train = df.loc[df['Person']!=(i+1)]\n",
    "        # Creating y_train\n",
    "        y_train = train.Grounded\n",
    "        # Creting x_train and dropping target and index\n",
    "        x_train = train.drop(columns='Grounded')\n",
    "        x_train = x_train.drop(columns='Person')\n",
    "\n",
    "        # Random state = 1 for initial \n",
    "        clf = RandomForestClassifier(n_estimators=x,random_state=2)\n",
    "\n",
    "        clf.fit(x_train,y_train)\n",
    "        pred = clf.predict(x_test)\n",
    "\n",
    "        score = clf.score(x_test,y_test)\n",
    "        total_score += score\n",
    "        conf = confusion_matrix(y_test, pred)\n",
    "        df_cm = pd.DataFrame(conf,index = [0,1],columns=[0,1])\n",
    "\n",
    "    total_score = total_score/10\n",
    "    trees_score.append(total_score)\n",
    "    \n",
    "\n",
    "plt.plot(number_trees,trees_score)\n",
    "plt.xlabel(\"Number Of Trees\")\n",
    "plt.ylabel(\"Accuracy\")\n",
    "plt.ylim([0,1.1])\n",
    "plt.title(\"Random Forest Accuracy\")\n",
    "plt.show()"
   ]
  }
 ],
 "metadata": {
  "kernelspec": {
   "display_name": "Python 3.10.4 64-bit",
   "language": "python",
   "name": "python3"
  },
  "language_info": {
   "codemirror_mode": {
    "name": "ipython",
    "version": 3
   },
   "file_extension": ".py",
   "mimetype": "text/x-python",
   "name": "python",
   "nbconvert_exporter": "python",
   "pygments_lexer": "ipython3",
   "version": "3.10.4"
  },
  "orig_nbformat": 4,
  "vscode": {
   "interpreter": {
    "hash": "3ad933181bd8a04b432d3370b9dc3b0662ad032c4dfaa4e4f1596c548f763858"
   }
  }
 },
 "nbformat": 4,
 "nbformat_minor": 2
}
