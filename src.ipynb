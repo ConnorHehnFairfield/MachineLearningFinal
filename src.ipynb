{
 "cells": [
  {
   "cell_type": "code",
   "execution_count": null,
   "metadata": {},
   "outputs": [],
   "source": [
    "# Machine Learning Final\n",
    "# Connor Hehn and John Minogue\n",
    "\n",
    "import pandas as pd\n",
    "import numpy as np"
   ]
  },
  {
   "cell_type": "code",
   "execution_count": null,
   "metadata": {},
   "outputs": [],
   "source": [
    "# Reading the data into data frames\n",
    "\n",
    "df_1E = pd.read_csv(\"Data/Subject01E.csv\")\n",
    "df_1G = pd.read_csv(\"Data/Subject02E.csv\")\n",
    "\n",
    "df_2E = pd.read_csv(\"Data/Subject02E.csv\")\n",
    "df_2G = pd.read_csv(\"Data/Subject02G.csv\")\n",
    "\n",
    "df_3E = pd.read_csv(\"Data/Subject03E.csv\")\n",
    "df_3G = pd.read_csv(\"Data/Subject03G.csv\")\n",
    "\n",
    "df_4E = pd.read_csv(\"Data/Subject04E.csv\")\n",
    "df_4G = pd.read_csv(\"Data/Subject04G.csv\")\n",
    "\n",
    "df_5E = pd.read_csv(\"Data/Subject05E.csv\")\n",
    "df_5G = pd.read_csv(\"Data/Subject05G.csv\")\n",
    "\n",
    "df_6E = pd.read_csv(\"Data/Subject06E.csv\")\n",
    "df_6G = pd.read_csv(\"Data/Subject06G.csv\")\n",
    "\n",
    "df_7E = pd.read_csv(\"Data/Subject07E.csv\")\n",
    "df_7G = pd.read_csv(\"Data/Subject07G.csv\")\n",
    "\n",
    "df_8E = pd.read_csv(\"Data/Subject08E.csv\")\n",
    "df_8G = pd.read_csv(\"Data/Subject08G.csv\")\n",
    "\n",
    "df_9E = pd.read_csv(\"Data/Subject09E.csv\")\n",
    "df_9G = pd.read_csv(\"Data/Subject09G.csv\")\n",
    "\n",
    "df_10E = pd.read_csv(\"Data/Subject10E.csv\")\n",
    "df_10G = pd.read_csv(\"Data/Subject10G.csv\")"
   ]
  },
  {
   "cell_type": "code",
   "execution_count": null,
   "metadata": {},
   "outputs": [],
   "source": [
    "# Creating and merging dataframe\n",
    "\n",
    "frame = [df_1E, df_1G, df_2E, df_2G, df_3E, df_3G, df_4E, df_4G, df_5E, df_5G, df_6E, df_6G, df_7E, df_7G, df_8E, df_8G, df_9E, df_9G, df_10E, df_10G]\n",
    "maindf = pd.concat(frame)\n",
    "\n",
    "print(maindf)\n"
   ]
  }
 ],
 "metadata": {
  "kernelspec": {
   "display_name": "Python 3.10.4 64-bit",
   "language": "python",
   "name": "python3"
  },
  "language_info": {
   "codemirror_mode": {
    "name": "ipython",
    "version": 3
   },
   "file_extension": ".py",
   "mimetype": "text/x-python",
   "name": "python",
   "nbconvert_exporter": "python",
   "pygments_lexer": "ipython3",
   "version": "3.10.4"
  },
  "orig_nbformat": 4,
  "vscode": {
   "interpreter": {
    "hash": "3ad933181bd8a04b432d3370b9dc3b0662ad032c4dfaa4e4f1596c548f763858"
   }
  }
 },
 "nbformat": 4,
 "nbformat_minor": 2
}
